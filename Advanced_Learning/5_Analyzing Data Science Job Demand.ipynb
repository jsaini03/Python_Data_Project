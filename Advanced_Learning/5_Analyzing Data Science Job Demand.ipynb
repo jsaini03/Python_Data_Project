{
 "cells": [
  {
   "cell_type": "code",
   "execution_count": 2,
   "metadata": {},
   "outputs": [],
   "source": [
    "# Importing Libraries\n",
    "import pandas as pd\n",
    "from datasets import load_dataset\n",
    "import matplotlib.pyplot as plt\n",
    "\n",
    "#Loading data\n",
    "dataset = load_dataset(\"lukebarousse/data_jobs\")\n",
    "df = dataset[\"train\"].to_pandas()\n",
    "\n",
    "#Cleaning data\n",
    "df[\"job_posted_date\"]= pd.to_datetime(df[\"job_posted_date\"])"
   ]
  },
  {
   "cell_type": "code",
   "execution_count": 2,
   "metadata": {},
   "outputs": [],
   "source": [
    "df_usa = df[df['job_country']== 'United States'].copy()"
   ]
  },
  {
   "cell_type": "code",
   "execution_count": 6,
   "metadata": {},
   "outputs": [],
   "source": [
    "df_usa['job_posted_month']= df_usa['job_posted_date']. dt.strftime('%B')\n"
   ]
  },
  {
   "cell_type": "code",
   "execution_count": 27,
   "metadata": {},
   "outputs": [],
   "source": [
    "df_usa_pivot = df_usa.pivot_table(index='job_posted_month', columns='job_title_short', aggfunc='size')"
   ]
  },
  {
   "cell_type": "code",
   "execution_count": 30,
   "metadata": {},
   "outputs": [],
   "source": [
    "df_usa_pivot.reset_index(inplace=True)"
   ]
  },
  {
   "cell_type": "code",
   "execution_count": 31,
   "metadata": {},
   "outputs": [
    {
     "data": {
      "text/plain": [
       "0      4\n",
       "1      8\n",
       "2     12\n",
       "3      2\n",
       "4      1\n",
       "5      7\n",
       "6      6\n",
       "7      3\n",
       "8      5\n",
       "9     11\n",
       "10    10\n",
       "11     9\n",
       "Name: month_num, dtype: int32"
      ]
     },
     "execution_count": 31,
     "metadata": {},
     "output_type": "execute_result"
    }
   ],
   "source": [
    "df_usa_pivot['month_num']= pd.to_datetime(df_usa_pivot['job_posted_month'], format= '%B').dt.month\n",
    "df_usa_pivot['month_num']"
   ]
  },
  {
   "cell_type": "code",
   "execution_count": 33,
   "metadata": {},
   "outputs": [],
   "source": [
    "df_usa_pivot.sort_values('month_num', inplace=True)\n",
    "df_usa_pivot.set_index('job_posted_month', inplace=True)"
   ]
  },
  {
   "cell_type": "code",
   "execution_count": 34,
   "metadata": {},
   "outputs": [],
   "source": [
    "df_usa_pivot.drop(columns='month_num', inplace=True)"
   ]
  },
  {
   "cell_type": "code",
   "execution_count": 35,
   "metadata": {},
   "outputs": [
    {
     "data": {
      "text/html": [
       "<div>\n",
       "<style scoped>\n",
       "    .dataframe tbody tr th:only-of-type {\n",
       "        vertical-align: middle;\n",
       "    }\n",
       "\n",
       "    .dataframe tbody tr th {\n",
       "        vertical-align: top;\n",
       "    }\n",
       "\n",
       "    .dataframe thead th {\n",
       "        text-align: right;\n",
       "    }\n",
       "</style>\n",
       "<table border=\"1\" class=\"dataframe\">\n",
       "  <thead>\n",
       "    <tr style=\"text-align: right;\">\n",
       "      <th>job_title_short</th>\n",
       "      <th>Business Analyst</th>\n",
       "      <th>Cloud Engineer</th>\n",
       "      <th>Data Analyst</th>\n",
       "      <th>Data Engineer</th>\n",
       "      <th>Data Scientist</th>\n",
       "      <th>Machine Learning Engineer</th>\n",
       "      <th>Senior Data Analyst</th>\n",
       "      <th>Senior Data Engineer</th>\n",
       "      <th>Senior Data Scientist</th>\n",
       "      <th>Software Engineer</th>\n",
       "    </tr>\n",
       "    <tr>\n",
       "      <th>job_posted_month</th>\n",
       "      <th></th>\n",
       "      <th></th>\n",
       "      <th></th>\n",
       "      <th></th>\n",
       "      <th></th>\n",
       "      <th></th>\n",
       "      <th></th>\n",
       "      <th></th>\n",
       "      <th></th>\n",
       "      <th></th>\n",
       "    </tr>\n",
       "  </thead>\n",
       "  <tbody>\n",
       "    <tr>\n",
       "      <th>January</th>\n",
       "      <td>527</td>\n",
       "      <td>36</td>\n",
       "      <td>8494</td>\n",
       "      <td>2655</td>\n",
       "      <td>6915</td>\n",
       "      <td>60</td>\n",
       "      <td>1544</td>\n",
       "      <td>773</td>\n",
       "      <td>1552</td>\n",
       "      <td>114</td>\n",
       "    </tr>\n",
       "    <tr>\n",
       "      <th>February</th>\n",
       "      <td>447</td>\n",
       "      <td>24</td>\n",
       "      <td>6124</td>\n",
       "      <td>3060</td>\n",
       "      <td>4956</td>\n",
       "      <td>56</td>\n",
       "      <td>1258</td>\n",
       "      <td>878</td>\n",
       "      <td>1127</td>\n",
       "      <td>90</td>\n",
       "    </tr>\n",
       "    <tr>\n",
       "      <th>March</th>\n",
       "      <td>438</td>\n",
       "      <td>19</td>\n",
       "      <td>6218</td>\n",
       "      <td>3183</td>\n",
       "      <td>4779</td>\n",
       "      <td>59</td>\n",
       "      <td>1114</td>\n",
       "      <td>829</td>\n",
       "      <td>1150</td>\n",
       "      <td>115</td>\n",
       "    </tr>\n",
       "    <tr>\n",
       "      <th>April</th>\n",
       "      <td>565</td>\n",
       "      <td>40</td>\n",
       "      <td>6049</td>\n",
       "      <td>2801</td>\n",
       "      <td>4867</td>\n",
       "      <td>51</td>\n",
       "      <td>1025</td>\n",
       "      <td>781</td>\n",
       "      <td>991</td>\n",
       "      <td>112</td>\n",
       "    </tr>\n",
       "    <tr>\n",
       "      <th>May</th>\n",
       "      <td>279</td>\n",
       "      <td>20</td>\n",
       "      <td>4993</td>\n",
       "      <td>2976</td>\n",
       "      <td>4377</td>\n",
       "      <td>49</td>\n",
       "      <td>839</td>\n",
       "      <td>746</td>\n",
       "      <td>914</td>\n",
       "      <td>90</td>\n",
       "    </tr>\n",
       "    <tr>\n",
       "      <th>June</th>\n",
       "      <td>446</td>\n",
       "      <td>32</td>\n",
       "      <td>5683</td>\n",
       "      <td>2893</td>\n",
       "      <td>4645</td>\n",
       "      <td>48</td>\n",
       "      <td>1009</td>\n",
       "      <td>812</td>\n",
       "      <td>1033</td>\n",
       "      <td>93</td>\n",
       "    </tr>\n",
       "    <tr>\n",
       "      <th>July</th>\n",
       "      <td>581</td>\n",
       "      <td>39</td>\n",
       "      <td>5201</td>\n",
       "      <td>2570</td>\n",
       "      <td>4876</td>\n",
       "      <td>65</td>\n",
       "      <td>883</td>\n",
       "      <td>747</td>\n",
       "      <td>1095</td>\n",
       "      <td>153</td>\n",
       "    </tr>\n",
       "    <tr>\n",
       "      <th>August</th>\n",
       "      <td>903</td>\n",
       "      <td>39</td>\n",
       "      <td>6634</td>\n",
       "      <td>3269</td>\n",
       "      <td>6318</td>\n",
       "      <td>68</td>\n",
       "      <td>1186</td>\n",
       "      <td>903</td>\n",
       "      <td>1515</td>\n",
       "      <td>194</td>\n",
       "    </tr>\n",
       "    <tr>\n",
       "      <th>September</th>\n",
       "      <td>897</td>\n",
       "      <td>50</td>\n",
       "      <td>4639</td>\n",
       "      <td>3224</td>\n",
       "      <td>4568</td>\n",
       "      <td>113</td>\n",
       "      <td>805</td>\n",
       "      <td>775</td>\n",
       "      <td>1014</td>\n",
       "      <td>228</td>\n",
       "    </tr>\n",
       "    <tr>\n",
       "      <th>October</th>\n",
       "      <td>932</td>\n",
       "      <td>48</td>\n",
       "      <td>5271</td>\n",
       "      <td>3015</td>\n",
       "      <td>4882</td>\n",
       "      <td>101</td>\n",
       "      <td>871</td>\n",
       "      <td>672</td>\n",
       "      <td>987</td>\n",
       "      <td>219</td>\n",
       "    </tr>\n",
       "    <tr>\n",
       "      <th>November</th>\n",
       "      <td>719</td>\n",
       "      <td>36</td>\n",
       "      <td>4531</td>\n",
       "      <td>2793</td>\n",
       "      <td>4175</td>\n",
       "      <td>132</td>\n",
       "      <td>656</td>\n",
       "      <td>684</td>\n",
       "      <td>816</td>\n",
       "      <td>194</td>\n",
       "    </tr>\n",
       "    <tr>\n",
       "      <th>December</th>\n",
       "      <td>648</td>\n",
       "      <td>40</td>\n",
       "      <td>3979</td>\n",
       "      <td>2641</td>\n",
       "      <td>3472</td>\n",
       "      <td>119</td>\n",
       "      <td>601</td>\n",
       "      <td>689</td>\n",
       "      <td>752</td>\n",
       "      <td>212</td>\n",
       "    </tr>\n",
       "  </tbody>\n",
       "</table>\n",
       "</div>"
      ],
      "text/plain": [
       "job_title_short   Business Analyst  Cloud Engineer  Data Analyst  \\\n",
       "job_posted_month                                                   \n",
       "January                        527              36          8494   \n",
       "February                       447              24          6124   \n",
       "March                          438              19          6218   \n",
       "April                          565              40          6049   \n",
       "May                            279              20          4993   \n",
       "June                           446              32          5683   \n",
       "July                           581              39          5201   \n",
       "August                         903              39          6634   \n",
       "September                      897              50          4639   \n",
       "October                        932              48          5271   \n",
       "November                       719              36          4531   \n",
       "December                       648              40          3979   \n",
       "\n",
       "job_title_short   Data Engineer  Data Scientist  Machine Learning Engineer  \\\n",
       "job_posted_month                                                             \n",
       "January                    2655            6915                         60   \n",
       "February                   3060            4956                         56   \n",
       "March                      3183            4779                         59   \n",
       "April                      2801            4867                         51   \n",
       "May                        2976            4377                         49   \n",
       "June                       2893            4645                         48   \n",
       "July                       2570            4876                         65   \n",
       "August                     3269            6318                         68   \n",
       "September                  3224            4568                        113   \n",
       "October                    3015            4882                        101   \n",
       "November                   2793            4175                        132   \n",
       "December                   2641            3472                        119   \n",
       "\n",
       "job_title_short   Senior Data Analyst  Senior Data Engineer  \\\n",
       "job_posted_month                                              \n",
       "January                          1544                   773   \n",
       "February                         1258                   878   \n",
       "March                            1114                   829   \n",
       "April                            1025                   781   \n",
       "May                               839                   746   \n",
       "June                             1009                   812   \n",
       "July                              883                   747   \n",
       "August                           1186                   903   \n",
       "September                         805                   775   \n",
       "October                           871                   672   \n",
       "November                          656                   684   \n",
       "December                          601                   689   \n",
       "\n",
       "job_title_short   Senior Data Scientist  Software Engineer  \n",
       "job_posted_month                                            \n",
       "January                            1552                114  \n",
       "February                           1127                 90  \n",
       "March                              1150                115  \n",
       "April                               991                112  \n",
       "May                                 914                 90  \n",
       "June                               1033                 93  \n",
       "July                               1095                153  \n",
       "August                             1515                194  \n",
       "September                          1014                228  \n",
       "October                             987                219  \n",
       "November                            816                194  \n",
       "December                            752                212  "
      ]
     },
     "execution_count": 35,
     "metadata": {},
     "output_type": "execute_result"
    }
   ],
   "source": [
    "df_usa_pivot"
   ]
  },
  {
   "cell_type": "code",
   "execution_count": 51,
   "metadata": {},
   "outputs": [
    {
     "data": {
      "text/plain": [
       "['Data Analyst', 'Data Scientist', 'Data Engineer']"
      ]
     },
     "execution_count": 51,
     "metadata": {},
     "output_type": "execute_result"
    }
   ],
   "source": [
    "top_3= df_usa['job_title_short'].value_counts().head(3)\n",
    "top_3= top_3.index.tolist()\n",
    "top_3"
   ]
  },
  {
   "cell_type": "code",
   "execution_count": 54,
   "metadata": {},
   "outputs": [
    {
     "data": {
      "image/png": "[encoded data removed]",
      "text/plain": [
       "<Figure size 640x480 with 1 Axes>"
      ]
     },
     "metadata": {},
     "output_type": "display_data"
    }
   ],
   "source": [
    "df_usa_pivot[top_3].plot(kind=\"line\")\n",
    "\n",
    "plt.title(\"Monthly Job Postings\")\n",
    "plt.xlabel('Year 2023')\n",
    "plt.ylabel('Job Count')\n",
    "plt.legend()\n",
    "plt.show()"
   ]
  },
  {
   "cell_type": "code",
   "execution_count": 3,
   "metadata": {},
   "outputs": [
    {
     "data": {
      "text/plain": [
       "28        112785.00\n",
       "77        144200.00\n",
       "92        123600.00\n",
       "100       235068.66\n",
       "109        91670.00\n",
       "            ...    \n",
       "785624    143392.48\n",
       "785641    154500.00\n",
       "785648    228531.25\n",
       "785682    162225.00\n",
       "785692    162225.00\n",
       "Name: salary_year_avg, Length: 22003, dtype: float64"
      ]
     },
     "execution_count": 3,
     "metadata": {},
     "output_type": "execute_result"
    }
   ],
   "source": [
    "df_salary = df[pd.notna(df['salary_year_avg'])]\n",
    "\n",
    "def new_salary(salary):\n",
    "    return salary*1.03\n",
    "\n",
    "df_salary['salary_year_avg'].apply(new_salary)"
   ]
  },
  {
   "cell_type": "code",
   "execution_count": null,
   "metadata": {},
   "outputs": [],
   "source": []
  }
 ],
 "metadata": {
  "kernelspec": {
   "display_name": "python_course",
   "language": "python",
   "name": "python3"
  },
  "language_info": {
   "codemirror_mode": {
    "name": "ipython",
    "version": 3
   },
   "file_extension": ".py",
   "mimetype": "text/x-python",
   "name": "python",
   "nbconvert_exporter": "python",
   "pygments_lexer": "ipython3",
   "version": "3.12.7"
  }
 },
 "nbformat": 4,
 "nbformat_minor": 2
}
